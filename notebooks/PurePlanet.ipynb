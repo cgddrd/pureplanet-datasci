{
 "cells": [
  {
   "cell_type": "markdown",
   "metadata": {
    "slideshow": {
     "slide_type": "slide"
    }
   },
   "source": [
    "## Pure Planet - Analysis of Website Metrics\n",
    "\n",
    "### Connor Goddard\n",
    "\n",
    "**6th August 2018**"
   ]
  },
  {
   "cell_type": "code",
   "execution_count": 1,
   "metadata": {
    "slideshow": {
     "slide_type": "skip"
    }
   },
   "outputs": [
    {
     "name": "stderr",
     "output_type": "stream",
     "text": [
      "/usr/lib/python3.6/importlib/_bootstrap.py:219: RuntimeWarning: numpy.dtype size changed, may indicate binary incompatibility. Expected 96, got 88\n",
      "  return f(*args, **kwds)\n",
      "/usr/lib/python3.6/importlib/_bootstrap.py:219: RuntimeWarning: numpy.dtype size changed, may indicate binary incompatibility. Expected 96, got 88\n",
      "  return f(*args, **kwds)\n"
     ]
    }
   ],
   "source": [
    "import numpy as np\n",
    "import pandas as pd\n",
    "import plotly.plotly as py\n",
    "import utils\n",
    "import matplotlib.pyplot as plt\n",
    "\n",
    "utils.init_plotly(username='cgddrd', api_key='F7STNJas2eDGiBpOva9a')"
   ]
  },
  {
   "cell_type": "code",
   "execution_count": 2,
   "metadata": {
    "slideshow": {
     "slide_type": "skip"
    }
   },
   "outputs": [
    {
     "data": {
      "text/html": [
       "<div>\n",
       "<style scoped>\n",
       "    .dataframe tbody tr th:only-of-type {\n",
       "        vertical-align: middle;\n",
       "    }\n",
       "\n",
       "    .dataframe tbody tr th {\n",
       "        vertical-align: top;\n",
       "    }\n",
       "\n",
       "    .dataframe thead th {\n",
       "        text-align: right;\n",
       "    }\n",
       "</style>\n",
       "<table border=\"1\" class=\"dataframe\">\n",
       "  <thead>\n",
       "    <tr style=\"text-align: right;\">\n",
       "      <th></th>\n",
       "      <th>category</th>\n",
       "      <th>metric</th>\n",
       "      <th>value</th>\n",
       "    </tr>\n",
       "    <tr>\n",
       "      <th>date</th>\n",
       "      <th></th>\n",
       "      <th></th>\n",
       "      <th></th>\n",
       "    </tr>\n",
       "  </thead>\n",
       "  <tbody>\n",
       "    <tr>\n",
       "      <th>2017-12-04</th>\n",
       "      <td>Branded Search</td>\n",
       "      <td>app_store</td>\n",
       "      <td>65</td>\n",
       "    </tr>\n",
       "    <tr>\n",
       "      <th>2017-12-04</th>\n",
       "      <td>Branded Search</td>\n",
       "      <td>complete_quote</td>\n",
       "      <td>437</td>\n",
       "    </tr>\n",
       "    <tr>\n",
       "      <th>2017-12-04</th>\n",
       "      <td>Branded Search</td>\n",
       "      <td>save_quote</td>\n",
       "      <td>165</td>\n",
       "    </tr>\n",
       "    <tr>\n",
       "      <th>2017-12-04</th>\n",
       "      <td>Branded Search</td>\n",
       "      <td>start_quote</td>\n",
       "      <td>491</td>\n",
       "    </tr>\n",
       "    <tr>\n",
       "      <th>2017-12-04</th>\n",
       "      <td>Branded Search</td>\n",
       "      <td>visitors</td>\n",
       "      <td>901</td>\n",
       "    </tr>\n",
       "  </tbody>\n",
       "</table>\n",
       "</div>"
      ],
      "text/plain": [
       "                  category          metric  value\n",
       "date                                             \n",
       "2017-12-04  Branded Search       app_store     65\n",
       "2017-12-04  Branded Search  complete_quote    437\n",
       "2017-12-04  Branded Search      save_quote    165\n",
       "2017-12-04  Branded Search     start_quote    491\n",
       "2017-12-04  Branded Search        visitors    901"
      ]
     },
     "execution_count": 2,
     "metadata": {},
     "output_type": "execute_result"
    }
   ],
   "source": [
    "# df = pd.read_csv('../data/raw/ga.csv', header=0)\n",
    "df = pd.read_csv('../data/raw/ga.csv', header=0, parse_dates=['date'], date_parser=utils.parse_csv_date, index_col='date')\n",
    "df.head()"
   ]
  },
  {
   "cell_type": "code",
   "execution_count": 3,
   "metadata": {
    "slideshow": {
     "slide_type": "skip"
    }
   },
   "outputs": [],
   "source": [
    "data = df.groupby(['metric'])['value'].sum().sort_values(ascending=False)\n",
    "data = data[~data.index.str.contains(\"app_store\")]"
   ]
  },
  {
   "cell_type": "code",
   "execution_count": 4,
   "metadata": {
    "slideshow": {
     "slide_type": "slide"
    }
   },
   "outputs": [
    {
     "data": {
      "text/html": [
       "<iframe id=\"igraph\" scrolling=\"no\" style=\"border:none;\" seamless=\"seamless\" src=\"https://plot.ly/~cgddrd/200.embed\" height=\"560px\" width=\"800px\"></iframe>"
      ],
      "text/plain": [
       "<plotly.tools.PlotlyDisplay object>"
      ]
     },
     "execution_count": 4,
     "metadata": {},
     "output_type": "execute_result"
    }
   ],
   "source": [
    "colors = ['rgb(32,155,160)', \n",
    "          'rgb(253,93,124)', \n",
    "          'rgb(28,119,139)', \n",
    "          'rgb(182,231,235)', \n",
    "          'rgb(35,154,160)', \n",
    "          'rgb(35,154,2)']\n",
    "\n",
    "fig = utils.plot_funnel_chart(data, colors, 'Metrics Funnel')\n",
    "py.iplot(fig)"
   ]
  },
  {
   "cell_type": "code",
   "execution_count": 5,
   "metadata": {
    "slideshow": {
     "slide_type": "subslide"
    }
   },
   "outputs": [],
   "source": [
    "metrics_by_channels = df.groupby(['metric', 'category'])[\"value\"].sum().reset_index()\n",
    "\n",
    "metrics_by_channels = metrics_by_channels.groupby('metric').apply(\n",
    "    lambda f: f.groupby('category').apply(\n",
    "        lambda g: g['value'].values\n",
    "    ))\n",
    "\n",
    "metrics_by_channels['sum'] = df.groupby('metric')['value'].sum()\n",
    "metrics_by_channels.sort_values('sum', ascending=False, inplace=True)\n",
    "totals = metrics_by_channels['sum'].values\n",
    "metrics_by_channels.drop('sum', axis=1, inplace=True)\n",
    "\n",
    "# remove any data for the 'app_store' metric. We aren't interested in this for the funnel chart.\n",
    "metrics_by_channels = metrics_by_channels[~metrics_by_channels.index.str.contains(\"app_store\")]"
   ]
  },
  {
   "cell_type": "code",
   "execution_count": 6,
   "metadata": {
    "slideshow": {
     "slide_type": "subslide"
    }
   },
   "outputs": [
    {
     "data": {
      "text/html": [
       "<iframe id=\"igraph\" scrolling=\"no\" style=\"border:none;\" seamless=\"seamless\" src=\"https://plot.ly/~cgddrd/202.embed\" height=\"525px\" width=\"100%\"></iframe>"
      ],
      "text/plain": [
       "<plotly.tools.PlotlyDisplay object>"
      ]
     },
     "execution_count": 6,
     "metadata": {},
     "output_type": "execute_result"
    }
   ],
   "source": [
    "fig = utils.plot_stacked_funnel_chart(metrics_by_channels, totals, colors, 'Metrics by Channel Contribution Funnel')\n",
    "py.iplot(fig)"
   ]
  },
  {
   "cell_type": "code",
   "execution_count": 7,
   "metadata": {
    "slideshow": {
     "slide_type": "skip"
    }
   },
   "outputs": [],
   "source": [
    "# %matplotlib inline\n",
    "# import matplotlib.pyplot as plt\n",
    "\n",
    "# ind = np.arange(len(grouped_seg.index))\n",
    "\n",
    "# plt.figure(figsize=(12, 12))\n",
    "# width = 0.5   \n",
    "\n",
    "# i = 0\n",
    "# ny = len(grouped_seg[grouped_seg.columns[0]])\n",
    "# cum_size = np.zeros(ny)\n",
    "\n",
    "# for column in grouped_seg:\n",
    "    \n",
    "#     data = np.concatenate(grouped_seg[column].values, axis=0)\n",
    "#     plt.bar(ind, data, width, bottom=cum_size, label=column)\n",
    "    \n",
    "#     cum_size += data\n",
    "\n",
    "# plt.ylabel('No of Hits')\n",
    "# plt.xticks(ind, grouped_seg.index)\n",
    "# plt.legend()\n",
    "# plt.show()"
   ]
  },
  {
   "cell_type": "markdown",
   "metadata": {
    "slideshow": {
     "slide_type": "slide"
    }
   },
   "source": [
    "### Conversion by Week"
   ]
  },
  {
   "cell_type": "code",
   "execution_count": 8,
   "metadata": {
    "slideshow": {
     "slide_type": "skip"
    }
   },
   "outputs": [],
   "source": [
    "df = pd.read_csv('../data/raw/ga.csv', header=0, parse_dates=['date'], date_parser=utils.parse_csv_date, index_col='date')"
   ]
  },
  {
   "cell_type": "code",
   "execution_count": 9,
   "metadata": {
    "slideshow": {
     "slide_type": "skip"
    }
   },
   "outputs": [
    {
     "data": {
      "text/html": [
       "<div>\n",
       "<style scoped>\n",
       "    .dataframe tbody tr th:only-of-type {\n",
       "        vertical-align: middle;\n",
       "    }\n",
       "\n",
       "    .dataframe tbody tr th {\n",
       "        vertical-align: top;\n",
       "    }\n",
       "\n",
       "    .dataframe thead th {\n",
       "        text-align: right;\n",
       "    }\n",
       "</style>\n",
       "<table border=\"1\" class=\"dataframe\">\n",
       "  <thead>\n",
       "    <tr style=\"text-align: right;\">\n",
       "      <th></th>\n",
       "      <th>visitors</th>\n",
       "      <th>save_quote</th>\n",
       "      <th>conversion_rate</th>\n",
       "    </tr>\n",
       "    <tr>\n",
       "      <th>date</th>\n",
       "      <th></th>\n",
       "      <th></th>\n",
       "      <th></th>\n",
       "    </tr>\n",
       "  </thead>\n",
       "  <tbody>\n",
       "    <tr>\n",
       "      <th>2017-12-10</th>\n",
       "      <td>27384</td>\n",
       "      <td>2101</td>\n",
       "      <td>7.672363</td>\n",
       "    </tr>\n",
       "    <tr>\n",
       "      <th>2017-12-17</th>\n",
       "      <td>18917</td>\n",
       "      <td>1693</td>\n",
       "      <td>8.949622</td>\n",
       "    </tr>\n",
       "    <tr>\n",
       "      <th>2017-12-24</th>\n",
       "      <td>10009</td>\n",
       "      <td>1020</td>\n",
       "      <td>10.190828</td>\n",
       "    </tr>\n",
       "    <tr>\n",
       "      <th>2017-12-31</th>\n",
       "      <td>8717</td>\n",
       "      <td>1042</td>\n",
       "      <td>11.953654</td>\n",
       "    </tr>\n",
       "    <tr>\n",
       "      <th>2018-01-07</th>\n",
       "      <td>15611</td>\n",
       "      <td>1850</td>\n",
       "      <td>11.850618</td>\n",
       "    </tr>\n",
       "    <tr>\n",
       "      <th>2018-01-14</th>\n",
       "      <td>26225</td>\n",
       "      <td>3325</td>\n",
       "      <td>12.678742</td>\n",
       "    </tr>\n",
       "    <tr>\n",
       "      <th>2018-01-21</th>\n",
       "      <td>25298</td>\n",
       "      <td>2797</td>\n",
       "      <td>11.056210</td>\n",
       "    </tr>\n",
       "    <tr>\n",
       "      <th>2018-01-28</th>\n",
       "      <td>21526</td>\n",
       "      <td>2574</td>\n",
       "      <td>11.957633</td>\n",
       "    </tr>\n",
       "    <tr>\n",
       "      <th>2018-02-04</th>\n",
       "      <td>21944</td>\n",
       "      <td>1972</td>\n",
       "      <td>8.986511</td>\n",
       "    </tr>\n",
       "    <tr>\n",
       "      <th>2018-02-11</th>\n",
       "      <td>23002</td>\n",
       "      <td>1912</td>\n",
       "      <td>8.312321</td>\n",
       "    </tr>\n",
       "    <tr>\n",
       "      <th>2018-02-18</th>\n",
       "      <td>17529</td>\n",
       "      <td>1628</td>\n",
       "      <td>9.287466</td>\n",
       "    </tr>\n",
       "    <tr>\n",
       "      <th>2018-02-25</th>\n",
       "      <td>16623</td>\n",
       "      <td>1576</td>\n",
       "      <td>9.480840</td>\n",
       "    </tr>\n",
       "    <tr>\n",
       "      <th>2018-03-04</th>\n",
       "      <td>26841</td>\n",
       "      <td>2095</td>\n",
       "      <td>7.805223</td>\n",
       "    </tr>\n",
       "  </tbody>\n",
       "</table>\n",
       "</div>"
      ],
      "text/plain": [
       "            visitors  save_quote  conversion_rate\n",
       "date                                             \n",
       "2017-12-10     27384        2101         7.672363\n",
       "2017-12-17     18917        1693         8.949622\n",
       "2017-12-24     10009        1020        10.190828\n",
       "2017-12-31      8717        1042        11.953654\n",
       "2018-01-07     15611        1850        11.850618\n",
       "2018-01-14     26225        3325        12.678742\n",
       "2018-01-21     25298        2797        11.056210\n",
       "2018-01-28     21526        2574        11.957633\n",
       "2018-02-04     21944        1972         8.986511\n",
       "2018-02-11     23002        1912         8.312321\n",
       "2018-02-18     17529        1628         9.287466\n",
       "2018-02-25     16623        1576         9.480840\n",
       "2018-03-04     26841        2095         7.805223"
      ]
     },
     "execution_count": 9,
     "metadata": {},
     "output_type": "execute_result"
    }
   ],
   "source": [
    "metrics = df[df['metric'] == 'visitors'].groupby(pd.Grouper(freq='W'))['value'].sum()\n",
    "metrics = pd.DataFrame(metrics)\n",
    "metrics['save_quote'] = df[df['metric'] == 'save_quote'].groupby(pd.Grouper(freq='W'))['value'].sum()\n",
    "metrics.columns = ['visitors', 'save_quote']\n",
    "metrics['conversion_rate'] = (metrics['save_quote'] / metrics['visitors']) * 100\n",
    "metrics"
   ]
  },
  {
   "cell_type": "code",
   "execution_count": 10,
   "metadata": {
    "slideshow": {
     "slide_type": "subslide"
    }
   },
   "outputs": [],
   "source": [
    "%%capture captured\n",
    "%matplotlib inline\n",
    "plt.style.use('ggplot')\n",
    "import matplotlib.dates as mdates\n",
    "from matplotlib.dates import MO, TU, WE, TH, FR, SA, SU\n",
    "\n",
    "fig_conv_by_week, ax1 = plt.subplots(figsize=(12, 10))\n",
    "ax1.bar(metrics.index, metrics['visitors'], width=2)\n",
    "\n",
    "ax1.set_ylabel('visitors')\n",
    "ax1.grid(False)\n",
    "\n",
    "ax2 = ax1.twinx()\n",
    "\n",
    "ax2.plot(metrics.index, metrics['conversion_rate'], 'b')\n",
    "\n",
    "#set ticks every week (Sunday)\n",
    "ax2.xaxis.set_major_locator(mdates.WeekdayLocator(byweekday=SU))\n",
    "\n",
    "# set minor ticks to every day\n",
    "ax2.xaxis.set_minor_locator(mdates.DayLocator())\n",
    "\n",
    "#set major ticks format\n",
    "ax2.xaxis.set_major_formatter(mdates.DateFormatter('%d %b'))\n",
    "\n",
    "ax2.set_ylabel('conversion rate', color='b')\n",
    "ax2.tick_params('y', colors='b')\n",
    "ax2.set_ylim(bottom = 0, top = (ax2.get_ylim()[1] * 2))\n",
    "\n",
    "# use ';' to suppress additional output.\n",
    "plt.show();"
   ]
  },
  {
   "cell_type": "code",
   "execution_count": 11,
   "metadata": {
    "slideshow": {
     "slide_type": "subslide"
    }
   },
   "outputs": [
    {
     "data": {
      "image/png": "[encoded data removed]",
      "text/plain": [
       "<Figure size 864x720 with 2 Axes>"
      ]
     },
     "execution_count": 11,
     "metadata": {},
     "output_type": "execute_result"
    }
   ],
   "source": [
    "fig_conv_by_week"
   ]
  },
  {
   "cell_type": "markdown",
   "metadata": {
    "slideshow": {
     "slide_type": "slide"
    }
   },
   "source": [
    "### How does quote conversion vary by channel?\n",
    "\n",
    "* **Conversion is the rate of quote saves vs. visitors.**"
   ]
  },
  {
   "cell_type": "code",
   "execution_count": 12,
   "metadata": {
    "slideshow": {
     "slide_type": "skip"
    }
   },
   "outputs": [],
   "source": [
    "df = pd.read_csv('../data/raw/ga.csv', header=0, parse_dates=['date'], date_parser=utils.parse_csv_date, index_col='date')"
   ]
  },
  {
   "cell_type": "code",
   "execution_count": 13,
   "metadata": {
    "slideshow": {
     "slide_type": "skip"
    }
   },
   "outputs": [
    {
     "data": {
      "text/html": [
       "<div>\n",
       "<style scoped>\n",
       "    .dataframe tbody tr th:only-of-type {\n",
       "        vertical-align: middle;\n",
       "    }\n",
       "\n",
       "    .dataframe tbody tr th {\n",
       "        vertical-align: top;\n",
       "    }\n",
       "\n",
       "    .dataframe thead th {\n",
       "        text-align: right;\n",
       "    }\n",
       "</style>\n",
       "<table border=\"1\" class=\"dataframe\">\n",
       "  <thead>\n",
       "    <tr style=\"text-align: right;\">\n",
       "      <th></th>\n",
       "      <th>value</th>\n",
       "    </tr>\n",
       "    <tr>\n",
       "      <th>category</th>\n",
       "      <th></th>\n",
       "    </tr>\n",
       "  </thead>\n",
       "  <tbody>\n",
       "    <tr>\n",
       "      <th>Branded Search</th>\n",
       "      <td>16.758545</td>\n",
       "    </tr>\n",
       "    <tr>\n",
       "      <th>Direct Traffic</th>\n",
       "      <td>2.467282</td>\n",
       "    </tr>\n",
       "    <tr>\n",
       "      <th>Generic Search</th>\n",
       "      <td>9.319679</td>\n",
       "    </tr>\n",
       "    <tr>\n",
       "      <th>Organic</th>\n",
       "      <td>11.934185</td>\n",
       "    </tr>\n",
       "    <tr>\n",
       "      <th>Paid search</th>\n",
       "      <td>6.427023</td>\n",
       "    </tr>\n",
       "    <tr>\n",
       "      <th>Referral link</th>\n",
       "      <td>28.259752</td>\n",
       "    </tr>\n",
       "  </tbody>\n",
       "</table>\n",
       "</div>"
      ],
      "text/plain": [
       "                    value\n",
       "category                 \n",
       "Branded Search  16.758545\n",
       "Direct Traffic   2.467282\n",
       "Generic Search   9.319679\n",
       "Organic         11.934185\n",
       "Paid search      6.427023\n",
       "Referral link   28.259752"
      ]
     },
     "execution_count": 13,
     "metadata": {},
     "output_type": "execute_result"
    }
   ],
   "source": [
    "def calc_conversion_rate(visitors, save_quotes):\n",
    "    return save_quotes/visitors * 100\n",
    "\n",
    "metric_summaries_by_channel = df.groupby(['category', 'metric']).sum()\n",
    "\n",
    "conversion_rates_by_channel = metric_summaries_by_channel.groupby(level=0) \\\n",
    "                                .apply(lambda x: calc_conversion_rate(x.loc[(x.name, 'visitors')], \n",
    "                                                      x.loc[(x.name, 'save_quote')]))\n",
    "conversion_rates_by_channel"
   ]
  },
  {
   "cell_type": "code",
   "execution_count": 14,
   "metadata": {
    "slideshow": {
     "slide_type": "skip"
    }
   },
   "outputs": [
    {
     "data": {
      "text/html": [
       "<div>\n",
       "<style scoped>\n",
       "    .dataframe tbody tr th:only-of-type {\n",
       "        vertical-align: middle;\n",
       "    }\n",
       "\n",
       "    .dataframe tbody tr th {\n",
       "        vertical-align: top;\n",
       "    }\n",
       "\n",
       "    .dataframe thead th {\n",
       "        text-align: right;\n",
       "    }\n",
       "</style>\n",
       "<table border=\"1\" class=\"dataframe\">\n",
       "  <thead>\n",
       "    <tr style=\"text-align: right;\">\n",
       "      <th>metric</th>\n",
       "      <th>app_store</th>\n",
       "      <th>complete_quote</th>\n",
       "      <th>save_quote</th>\n",
       "      <th>start_quote</th>\n",
       "      <th>visitors</th>\n",
       "      <th>sum</th>\n",
       "    </tr>\n",
       "    <tr>\n",
       "      <th>category</th>\n",
       "      <th></th>\n",
       "      <th></th>\n",
       "      <th></th>\n",
       "      <th></th>\n",
       "      <th></th>\n",
       "      <th></th>\n",
       "    </tr>\n",
       "  </thead>\n",
       "  <tbody>\n",
       "    <tr>\n",
       "      <th>Generic Search</th>\n",
       "      <td>[4231]</td>\n",
       "      <td>[29696]</td>\n",
       "      <td>[11003]</td>\n",
       "      <td>[37415]</td>\n",
       "      <td>[118062]</td>\n",
       "      <td>200407</td>\n",
       "    </tr>\n",
       "    <tr>\n",
       "      <th>Paid search</th>\n",
       "      <td>[1361]</td>\n",
       "      <td>[17662]</td>\n",
       "      <td>[4300]</td>\n",
       "      <td>[23565]</td>\n",
       "      <td>[66905]</td>\n",
       "      <td>113793</td>\n",
       "    </tr>\n",
       "    <tr>\n",
       "      <th>Referral link</th>\n",
       "      <td>[1361]</td>\n",
       "      <td>[10383]</td>\n",
       "      <td>[6049]</td>\n",
       "      <td>[11900]</td>\n",
       "      <td>[21405]</td>\n",
       "      <td>51098</td>\n",
       "    </tr>\n",
       "    <tr>\n",
       "      <th>Direct Traffic</th>\n",
       "      <td>[793]</td>\n",
       "      <td>[1427]</td>\n",
       "      <td>[690]</td>\n",
       "      <td>[1730]</td>\n",
       "      <td>[27966]</td>\n",
       "      <td>32606</td>\n",
       "    </tr>\n",
       "    <tr>\n",
       "      <th>Organic</th>\n",
       "      <td>[1328]</td>\n",
       "      <td>[4604]</td>\n",
       "      <td>[1719]</td>\n",
       "      <td>[5264]</td>\n",
       "      <td>[14404]</td>\n",
       "      <td>27319</td>\n",
       "    </tr>\n",
       "    <tr>\n",
       "      <th>Branded Search</th>\n",
       "      <td>[637]</td>\n",
       "      <td>[4543]</td>\n",
       "      <td>[1824]</td>\n",
       "      <td>[5223]</td>\n",
       "      <td>[10884]</td>\n",
       "      <td>23111</td>\n",
       "    </tr>\n",
       "  </tbody>\n",
       "</table>\n",
       "</div>"
      ],
      "text/plain": [
       "metric         app_store complete_quote save_quote start_quote  visitors  \\\n",
       "category                                                                   \n",
       "Generic Search    [4231]        [29696]    [11003]     [37415]  [118062]   \n",
       "Paid search       [1361]        [17662]     [4300]     [23565]   [66905]   \n",
       "Referral link     [1361]        [10383]     [6049]     [11900]   [21405]   \n",
       "Direct Traffic     [793]         [1427]      [690]      [1730]   [27966]   \n",
       "Organic           [1328]         [4604]     [1719]      [5264]   [14404]   \n",
       "Branded Search     [637]         [4543]     [1824]      [5223]   [10884]   \n",
       "\n",
       "metric             sum  \n",
       "category                \n",
       "Generic Search  200407  \n",
       "Paid search     113793  \n",
       "Referral link    51098  \n",
       "Direct Traffic   32606  \n",
       "Organic          27319  \n",
       "Branded Search   23111  "
      ]
     },
     "execution_count": 14,
     "metadata": {},
     "output_type": "execute_result"
    }
   ],
   "source": [
    "data = df.groupby(['category', 'metric'])[\"value\"].sum().sort_values(ascending=False).reset_index()\n",
    "\n",
    "data = data.groupby('metric').apply(\n",
    "    lambda f: f.groupby('category').apply(\n",
    "        lambda g: g['value'].values\n",
    "    ))\n",
    "data = data.T\n",
    "data['sum'] = df.groupby('category')['value'].sum()\n",
    "data = data.sort_values(by='sum', ascending=False)\n",
    "data"
   ]
  },
  {
   "cell_type": "code",
   "execution_count": 15,
   "metadata": {
    "slideshow": {
     "slide_type": "skip"
    }
   },
   "outputs": [],
   "source": [
    "data.drop('sum', axis=1, inplace=True) "
   ]
  },
  {
   "cell_type": "code",
   "execution_count": 16,
   "metadata": {
    "slideshow": {
     "slide_type": "subslide"
    }
   },
   "outputs": [
    {
     "data": {
      "text/html": [
       "<div>\n",
       "<style scoped>\n",
       "    .dataframe tbody tr th:only-of-type {\n",
       "        vertical-align: middle;\n",
       "    }\n",
       "\n",
       "    .dataframe tbody tr th {\n",
       "        vertical-align: top;\n",
       "    }\n",
       "\n",
       "    .dataframe thead th {\n",
       "        text-align: right;\n",
       "    }\n",
       "</style>\n",
       "<table border=\"1\" class=\"dataframe\">\n",
       "  <thead>\n",
       "    <tr style=\"text-align: right;\">\n",
       "      <th></th>\n",
       "      <th>value</th>\n",
       "    </tr>\n",
       "    <tr>\n",
       "      <th>category</th>\n",
       "      <th></th>\n",
       "    </tr>\n",
       "  </thead>\n",
       "  <tbody>\n",
       "    <tr>\n",
       "      <th>Generic Search</th>\n",
       "      <td>9.319679</td>\n",
       "    </tr>\n",
       "    <tr>\n",
       "      <th>Paid search</th>\n",
       "      <td>6.427023</td>\n",
       "    </tr>\n",
       "    <tr>\n",
       "      <th>Referral link</th>\n",
       "      <td>28.259752</td>\n",
       "    </tr>\n",
       "    <tr>\n",
       "      <th>Direct Traffic</th>\n",
       "      <td>2.467282</td>\n",
       "    </tr>\n",
       "    <tr>\n",
       "      <th>Organic</th>\n",
       "      <td>11.934185</td>\n",
       "    </tr>\n",
       "    <tr>\n",
       "      <th>Branded Search</th>\n",
       "      <td>16.758545</td>\n",
       "    </tr>\n",
       "  </tbody>\n",
       "</table>\n",
       "</div>"
      ],
      "text/plain": [
       "                    value\n",
       "category                 \n",
       "Generic Search   9.319679\n",
       "Paid search      6.427023\n",
       "Referral link   28.259752\n",
       "Direct Traffic   2.467282\n",
       "Organic         11.934185\n",
       "Branded Search  16.758545"
      ]
     },
     "execution_count": 16,
     "metadata": {},
     "output_type": "execute_result"
    }
   ],
   "source": [
    "conversion_rates_by_channel = conversion_rates_by_channel.reindex(data.index)\n",
    "conversion_rates_by_channel"
   ]
  },
  {
   "cell_type": "code",
   "execution_count": 17,
   "metadata": {
    "slideshow": {
     "slide_type": "skip"
    }
   },
   "outputs": [],
   "source": [
    "%%capture captured\n",
    "import matplotlib.pyplot as plt\n",
    "\n",
    "ind = np.arange(len(data.index))\n",
    "\n",
    "fig_conv_by_channel, ax = plt.subplots(figsize=(12, 10))\n",
    "width = 0.5   \n",
    "\n",
    "i = 0\n",
    "ny = len(data.index)\n",
    "cum_size = np.zeros(ny)\n",
    "\n",
    "# reverse the order of the columns to render 'visitors' column first.\n",
    "for column in data.columns[::-1]:\n",
    "    \n",
    "    dat = np.concatenate(data[column].values, axis=0)\n",
    "    ax.bar(ind, dat, width, bottom=cum_size, label=column)\n",
    "    \n",
    "    cum_size += dat\n",
    "\n",
    "ax.set_ylabel('No of Hits')\n",
    "ax.set_xticks(np.arange(len(data.index)))\n",
    "ax.set_xticklabels(data.index)\n",
    "ax.legend()\n",
    "\n",
    "ax2 = ax.twinx()\n",
    "\n",
    "ax2.plot(data.index, conversion_rates_by_channel.values, 'b')\n",
    "\n",
    "ax2.set_ylabel('conversion rate', color='b')\n",
    "ax2.tick_params('y', colors='b')\n",
    "ax2.set_ylim(bottom = 0, top = (ax2.get_ylim()[1] * 2))"
   ]
  },
  {
   "cell_type": "code",
   "execution_count": 18,
   "metadata": {
    "slideshow": {
     "slide_type": "subslide"
    }
   },
   "outputs": [
    {
     "data": {
      "image/png": "[encoded data removed]",
      "text/plain": [
       "<Figure size 864x720 with 2 Axes>"
      ]
     },
     "execution_count": 18,
     "metadata": {},
     "output_type": "execute_result"
    }
   ],
   "source": [
    "fig_conv_by_channel"
   ]
  },
  {
   "cell_type": "markdown",
   "metadata": {
    "slideshow": {
     "slide_type": "slide"
    }
   },
   "source": [
    "### What was each channel’s contribution to app store visits and saved quotes over time?"
   ]
  },
  {
   "cell_type": "code",
   "execution_count": 19,
   "metadata": {
    "slideshow": {
     "slide_type": "skip"
    }
   },
   "outputs": [],
   "source": [
    "df = pd.read_csv('../data/raw/ga.csv', header=0, parse_dates=['date'], date_parser=utils.parse_csv_date, index_col='date')"
   ]
  },
  {
   "cell_type": "code",
   "execution_count": 20,
   "metadata": {
    "slideshow": {
     "slide_type": "skip"
    }
   },
   "outputs": [],
   "source": [
    "slimmed = df[(df['metric'] == 'app_store') | (df['metric'] == 'save_quote')]\n",
    "weekly_totals = slimmed.groupby([pd.Grouper(freq='W'), 'metric'])['value'].sum()"
   ]
  },
  {
   "cell_type": "code",
   "execution_count": 21,
   "metadata": {
    "slideshow": {
     "slide_type": "skip"
    }
   },
   "outputs": [],
   "source": [
    "categories = slimmed.groupby('metric')\n",
    "\n",
    "# loop through weeks\n",
    "weeks = slimmed.groupby(pd.Grouper(freq='W')).first().index\n",
    "\n",
    "datf_list = list()\n",
    "\n",
    "for name, group in categories:\n",
    "\n",
    "    # group categories by weeks and then sum the metric counts.\n",
    "    agg = group.groupby([pd.Grouper(freq='W'), 'category']).sum()\n",
    "    p = agg.reset_index().pivot('date', 'category', 'value')\n",
    "    datf_list.append(p)"
   ]
  },
  {
   "cell_type": "code",
   "execution_count": 22,
   "metadata": {
    "slideshow": {
     "slide_type": "subslide"
    }
   },
   "outputs": [
    {
     "data": {
      "image/png": "[encoded data removed]",
      "text/plain": [
       "<Figure size 864x720 with 1 Axes>"
      ]
     },
     "metadata": {},
     "output_type": "display_data"
    }
   ],
   "source": [
    "utils.plot_clustered_stacked(datf_list, [\"app_store\", \"save_quote\"], H='//', xfmt=utils.x_date_format, title='Contributions by channel');"
   ]
  },
  {
   "cell_type": "code",
   "execution_count": null,
   "metadata": {},
   "outputs": [],
   "source": []
  }
 ],
 "metadata": {
  "celltoolbar": "Slideshow",
  "kernelspec": {
   "display_name": "Python 3",
   "language": "python",
   "name": "python3"
  },
  "language_info": {
   "codemirror_mode": {
    "name": "ipython",
    "version": 3
   },
   "file_extension": ".py",
   "mimetype": "text/x-python",
   "name": "python",
   "nbconvert_exporter": "python",
   "pygments_lexer": "ipython3",
   "version": "3.6.5"
  }
 },
 "nbformat": 4,
 "nbformat_minor": 2
}
